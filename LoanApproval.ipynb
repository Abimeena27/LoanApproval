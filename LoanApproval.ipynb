{
 "cells": [
  {
   "cell_type": "code",
   "execution_count": 1,
   "id": "9f4055e7",
   "metadata": {},
   "outputs": [],
   "source": [
    "import numpy as np "
   ]
  },
  {
   "cell_type": "code",
   "execution_count": 2,
   "id": "73c0384f",
   "metadata": {},
   "outputs": [],
   "source": [
    "import pandas as pd"
   ]
  },
  {
   "cell_type": "code",
   "execution_count": 3,
   "id": "76f7f48f",
   "metadata": {},
   "outputs": [],
   "source": [
    "from sklearn.naive_bayes import GaussianNB"
   ]
  },
  {
   "cell_type": "code",
   "execution_count": 4,
   "id": "f23d1953",
   "metadata": {},
   "outputs": [],
   "source": [
    "from sklearn.preprocessing import LabelEncoder\n",
    "from imblearn.over_sampling import RandomOverSampler\n",
    "from sklearn.metrics import classification_report"
   ]
  },
  {
   "cell_type": "code",
   "execution_count": 5,
   "id": "db2f0e2b",
   "metadata": {},
   "outputs": [],
   "source": [
    "from sklearn.preprocessing import StandardScaler"
   ]
  },
  {
   "cell_type": "code",
   "execution_count": 6,
   "id": "12afebb5",
   "metadata": {},
   "outputs": [],
   "source": [
    "import matplotlib.pyplot as plt"
   ]
  },
  {
   "cell_type": "code",
   "execution_count": 7,
   "id": "540d546a",
   "metadata": {},
   "outputs": [],
   "source": [
    "df_train=pd.read_csv(\"train_u6lujuX_CVtuZ9i.csv\",delimiter=\",\")"
   ]
  },
  {
   "cell_type": "code",
   "execution_count": 8,
   "id": "4be225ca",
   "metadata": {},
   "outputs": [
    {
     "name": "stdout",
     "output_type": "stream",
     "text": [
      "<class 'pandas.core.frame.DataFrame'>\n",
      "RangeIndex: 614 entries, 0 to 613\n",
      "Data columns (total 13 columns):\n",
      " #   Column             Non-Null Count  Dtype  \n",
      "---  ------             --------------  -----  \n",
      " 0   Loan_ID            614 non-null    object \n",
      " 1   Gender             601 non-null    object \n",
      " 2   Married            611 non-null    object \n",
      " 3   Dependents         599 non-null    object \n",
      " 4   Education          614 non-null    object \n",
      " 5   Self_Employed      582 non-null    object \n",
      " 6   ApplicantIncome    614 non-null    int64  \n",
      " 7   CoapplicantIncome  614 non-null    float64\n",
      " 8   LoanAmount         592 non-null    float64\n",
      " 9   Loan_Amount_Term   600 non-null    float64\n",
      " 10  Credit_History     564 non-null    float64\n",
      " 11  Property_Area      614 non-null    object \n",
      " 12  Loan_Status        614 non-null    object \n",
      "dtypes: float64(4), int64(1), object(8)\n",
      "memory usage: 62.5+ KB\n"
     ]
    }
   ],
   "source": [
    "df_train.info()"
   ]
  },
  {
   "cell_type": "code",
   "execution_count": 9,
   "id": "5d6a49d1",
   "metadata": {},
   "outputs": [],
   "source": [
    "encoder = LabelEncoder()\n",
    "df_train[\"Loan_Status\"] = encoder.fit_transform(df_train[\"Loan_Status\"])"
   ]
  },
  {
   "cell_type": "code",
   "execution_count": 10,
   "id": "fb0083f0",
   "metadata": {},
   "outputs": [],
   "source": [
    "df_train[\"Loan_ID\"] = encoder.fit_transform(df_train[\"Loan_ID\"])"
   ]
  },
  {
   "cell_type": "code",
   "execution_count": 11,
   "id": "83d9514e",
   "metadata": {},
   "outputs": [],
   "source": [
    "df_train[\"Gender\"] = encoder.fit_transform(df_train[\"Gender\"])"
   ]
  },
  {
   "cell_type": "code",
   "execution_count": 12,
   "id": "33bbe3b8",
   "metadata": {},
   "outputs": [],
   "source": [
    "df_train[\"Married\"] = encoder.fit_transform(df_train[\"Married\"])"
   ]
  },
  {
   "cell_type": "code",
   "execution_count": 13,
   "id": "892acb6b",
   "metadata": {},
   "outputs": [],
   "source": [
    "df_train[\"Dependents\"] = encoder.fit_transform(df_train[\"Dependents\"])"
   ]
  },
  {
   "cell_type": "code",
   "execution_count": 14,
   "id": "cd682f6b",
   "metadata": {},
   "outputs": [],
   "source": [
    "df_train[\"Education\"] = encoder.fit_transform(df_train[\"Education\"])"
   ]
  },
  {
   "cell_type": "code",
   "execution_count": 15,
   "id": "ec75894e",
   "metadata": {},
   "outputs": [],
   "source": [
    "df_train[\"Self_Employed\"] = encoder.fit_transform(df_train[\"Self_Employed\"])"
   ]
  },
  {
   "cell_type": "code",
   "execution_count": 16,
   "id": "aa3d7cdb",
   "metadata": {},
   "outputs": [],
   "source": [
    "df_train[\"Property_Area\"] = encoder.fit_transform(df_train[\"Property_Area\"])"
   ]
  },
  {
   "cell_type": "code",
   "execution_count": 17,
   "id": "cdd46b89",
   "metadata": {},
   "outputs": [
    {
     "data": {
      "text/plain": [
       "Loan_ID               0\n",
       "Gender                0\n",
       "Married               0\n",
       "Dependents            0\n",
       "Education             0\n",
       "Self_Employed         0\n",
       "ApplicantIncome       0\n",
       "CoapplicantIncome     0\n",
       "LoanAmount           22\n",
       "Loan_Amount_Term     14\n",
       "Credit_History       50\n",
       "Property_Area         0\n",
       "Loan_Status           0\n",
       "dtype: int64"
      ]
     },
     "execution_count": 17,
     "metadata": {},
     "output_type": "execute_result"
    }
   ],
   "source": [
    "df_train.isnull().sum()"
   ]
  },
  {
   "cell_type": "code",
   "execution_count": 18,
   "id": "b39f3dcd",
   "metadata": {},
   "outputs": [],
   "source": [
    "# filling na\n",
    "# gender = unknown\n",
    "#married =unknown\n",
    "# depenency= mean\n",
    "#self employed mean value\n",
    "# loan amt median\n",
    "#loan amt term median\n",
    "#credit history median\n",
    "df_train['Gender'].fillna(\"Unknown\", inplace=True)\n",
    "df_train['Married'].fillna(\"Unknown\", inplace=True)\n",
    "df_train['Dependents'].fillna(method=\"ffill\", inplace=True)\n",
    "df_train['Self_Employed'].fillna(method=\"ffill\", inplace=True)\n",
    "df_train['LoanAmount'].fillna(df_train['LoanAmount'].mean(), inplace=True)\n",
    "df_train['Loan_Amount_Term'].fillna(df_train['Loan_Amount_Term'].mean(), inplace=True)\n",
    "df_train['Credit_History'].fillna(df_train['Credit_History'].mean(), inplace=True)"
   ]
  },
  {
   "cell_type": "code",
   "execution_count": 19,
   "id": "865bb71d",
   "metadata": {},
   "outputs": [],
   "source": [
    "tr_m_x=df_train[0:12]"
   ]
  },
  {
   "cell_type": "code",
   "execution_count": 20,
   "id": "b22f0f58",
   "metadata": {},
   "outputs": [],
   "source": [
    "tr_m_y=df_train['Loan_Status']"
   ]
  },
  {
   "cell_type": "code",
   "execution_count": 21,
   "id": "8876e192",
   "metadata": {},
   "outputs": [
    {
     "data": {
      "text/html": [
       "<div>\n",
       "<style scoped>\n",
       "    .dataframe tbody tr th:only-of-type {\n",
       "        vertical-align: middle;\n",
       "    }\n",
       "\n",
       "    .dataframe tbody tr th {\n",
       "        vertical-align: top;\n",
       "    }\n",
       "\n",
       "    .dataframe thead th {\n",
       "        text-align: right;\n",
       "    }\n",
       "</style>\n",
       "<table border=\"1\" class=\"dataframe\">\n",
       "  <thead>\n",
       "    <tr style=\"text-align: right;\">\n",
       "      <th></th>\n",
       "      <th>Loan_ID</th>\n",
       "      <th>Gender</th>\n",
       "      <th>Married</th>\n",
       "      <th>Dependents</th>\n",
       "      <th>Education</th>\n",
       "      <th>Self_Employed</th>\n",
       "      <th>ApplicantIncome</th>\n",
       "      <th>CoapplicantIncome</th>\n",
       "      <th>LoanAmount</th>\n",
       "      <th>Loan_Amount_Term</th>\n",
       "      <th>Credit_History</th>\n",
       "      <th>Property_Area</th>\n",
       "      <th>Loan_Status</th>\n",
       "    </tr>\n",
       "  </thead>\n",
       "  <tbody>\n",
       "    <tr>\n",
       "      <th>0</th>\n",
       "      <td>0</td>\n",
       "      <td>1</td>\n",
       "      <td>0</td>\n",
       "      <td>0</td>\n",
       "      <td>0</td>\n",
       "      <td>0</td>\n",
       "      <td>5849</td>\n",
       "      <td>0.0</td>\n",
       "      <td>146.412162</td>\n",
       "      <td>360.0</td>\n",
       "      <td>1.0</td>\n",
       "      <td>2</td>\n",
       "      <td>1</td>\n",
       "    </tr>\n",
       "    <tr>\n",
       "      <th>1</th>\n",
       "      <td>1</td>\n",
       "      <td>1</td>\n",
       "      <td>1</td>\n",
       "      <td>1</td>\n",
       "      <td>0</td>\n",
       "      <td>0</td>\n",
       "      <td>4583</td>\n",
       "      <td>1508.0</td>\n",
       "      <td>128.000000</td>\n",
       "      <td>360.0</td>\n",
       "      <td>1.0</td>\n",
       "      <td>0</td>\n",
       "      <td>0</td>\n",
       "    </tr>\n",
       "    <tr>\n",
       "      <th>2</th>\n",
       "      <td>2</td>\n",
       "      <td>1</td>\n",
       "      <td>1</td>\n",
       "      <td>0</td>\n",
       "      <td>0</td>\n",
       "      <td>1</td>\n",
       "      <td>3000</td>\n",
       "      <td>0.0</td>\n",
       "      <td>66.000000</td>\n",
       "      <td>360.0</td>\n",
       "      <td>1.0</td>\n",
       "      <td>2</td>\n",
       "      <td>1</td>\n",
       "    </tr>\n",
       "    <tr>\n",
       "      <th>3</th>\n",
       "      <td>3</td>\n",
       "      <td>1</td>\n",
       "      <td>1</td>\n",
       "      <td>0</td>\n",
       "      <td>1</td>\n",
       "      <td>0</td>\n",
       "      <td>2583</td>\n",
       "      <td>2358.0</td>\n",
       "      <td>120.000000</td>\n",
       "      <td>360.0</td>\n",
       "      <td>1.0</td>\n",
       "      <td>2</td>\n",
       "      <td>1</td>\n",
       "    </tr>\n",
       "    <tr>\n",
       "      <th>4</th>\n",
       "      <td>4</td>\n",
       "      <td>1</td>\n",
       "      <td>0</td>\n",
       "      <td>0</td>\n",
       "      <td>0</td>\n",
       "      <td>0</td>\n",
       "      <td>6000</td>\n",
       "      <td>0.0</td>\n",
       "      <td>141.000000</td>\n",
       "      <td>360.0</td>\n",
       "      <td>1.0</td>\n",
       "      <td>2</td>\n",
       "      <td>1</td>\n",
       "    </tr>\n",
       "    <tr>\n",
       "      <th>5</th>\n",
       "      <td>5</td>\n",
       "      <td>1</td>\n",
       "      <td>1</td>\n",
       "      <td>2</td>\n",
       "      <td>0</td>\n",
       "      <td>1</td>\n",
       "      <td>5417</td>\n",
       "      <td>4196.0</td>\n",
       "      <td>267.000000</td>\n",
       "      <td>360.0</td>\n",
       "      <td>1.0</td>\n",
       "      <td>2</td>\n",
       "      <td>1</td>\n",
       "    </tr>\n",
       "    <tr>\n",
       "      <th>6</th>\n",
       "      <td>6</td>\n",
       "      <td>1</td>\n",
       "      <td>1</td>\n",
       "      <td>0</td>\n",
       "      <td>1</td>\n",
       "      <td>0</td>\n",
       "      <td>2333</td>\n",
       "      <td>1516.0</td>\n",
       "      <td>95.000000</td>\n",
       "      <td>360.0</td>\n",
       "      <td>1.0</td>\n",
       "      <td>2</td>\n",
       "      <td>1</td>\n",
       "    </tr>\n",
       "    <tr>\n",
       "      <th>7</th>\n",
       "      <td>7</td>\n",
       "      <td>1</td>\n",
       "      <td>1</td>\n",
       "      <td>3</td>\n",
       "      <td>0</td>\n",
       "      <td>0</td>\n",
       "      <td>3036</td>\n",
       "      <td>2504.0</td>\n",
       "      <td>158.000000</td>\n",
       "      <td>360.0</td>\n",
       "      <td>0.0</td>\n",
       "      <td>1</td>\n",
       "      <td>0</td>\n",
       "    </tr>\n",
       "    <tr>\n",
       "      <th>8</th>\n",
       "      <td>8</td>\n",
       "      <td>1</td>\n",
       "      <td>1</td>\n",
       "      <td>2</td>\n",
       "      <td>0</td>\n",
       "      <td>0</td>\n",
       "      <td>4006</td>\n",
       "      <td>1526.0</td>\n",
       "      <td>168.000000</td>\n",
       "      <td>360.0</td>\n",
       "      <td>1.0</td>\n",
       "      <td>2</td>\n",
       "      <td>1</td>\n",
       "    </tr>\n",
       "    <tr>\n",
       "      <th>9</th>\n",
       "      <td>9</td>\n",
       "      <td>1</td>\n",
       "      <td>1</td>\n",
       "      <td>1</td>\n",
       "      <td>0</td>\n",
       "      <td>0</td>\n",
       "      <td>12841</td>\n",
       "      <td>10968.0</td>\n",
       "      <td>349.000000</td>\n",
       "      <td>360.0</td>\n",
       "      <td>1.0</td>\n",
       "      <td>1</td>\n",
       "      <td>0</td>\n",
       "    </tr>\n",
       "    <tr>\n",
       "      <th>10</th>\n",
       "      <td>10</td>\n",
       "      <td>1</td>\n",
       "      <td>1</td>\n",
       "      <td>2</td>\n",
       "      <td>0</td>\n",
       "      <td>0</td>\n",
       "      <td>3200</td>\n",
       "      <td>700.0</td>\n",
       "      <td>70.000000</td>\n",
       "      <td>360.0</td>\n",
       "      <td>1.0</td>\n",
       "      <td>2</td>\n",
       "      <td>1</td>\n",
       "    </tr>\n",
       "    <tr>\n",
       "      <th>11</th>\n",
       "      <td>11</td>\n",
       "      <td>1</td>\n",
       "      <td>1</td>\n",
       "      <td>2</td>\n",
       "      <td>0</td>\n",
       "      <td>2</td>\n",
       "      <td>2500</td>\n",
       "      <td>1840.0</td>\n",
       "      <td>109.000000</td>\n",
       "      <td>360.0</td>\n",
       "      <td>1.0</td>\n",
       "      <td>2</td>\n",
       "      <td>1</td>\n",
       "    </tr>\n",
       "  </tbody>\n",
       "</table>\n",
       "</div>"
      ],
      "text/plain": [
       "    Loan_ID  Gender  Married  Dependents  Education  Self_Employed  \\\n",
       "0         0       1        0           0          0              0   \n",
       "1         1       1        1           1          0              0   \n",
       "2         2       1        1           0          0              1   \n",
       "3         3       1        1           0          1              0   \n",
       "4         4       1        0           0          0              0   \n",
       "5         5       1        1           2          0              1   \n",
       "6         6       1        1           0          1              0   \n",
       "7         7       1        1           3          0              0   \n",
       "8         8       1        1           2          0              0   \n",
       "9         9       1        1           1          0              0   \n",
       "10       10       1        1           2          0              0   \n",
       "11       11       1        1           2          0              2   \n",
       "\n",
       "    ApplicantIncome  CoapplicantIncome  LoanAmount  Loan_Amount_Term  \\\n",
       "0              5849                0.0  146.412162             360.0   \n",
       "1              4583             1508.0  128.000000             360.0   \n",
       "2              3000                0.0   66.000000             360.0   \n",
       "3              2583             2358.0  120.000000             360.0   \n",
       "4              6000                0.0  141.000000             360.0   \n",
       "5              5417             4196.0  267.000000             360.0   \n",
       "6              2333             1516.0   95.000000             360.0   \n",
       "7              3036             2504.0  158.000000             360.0   \n",
       "8              4006             1526.0  168.000000             360.0   \n",
       "9             12841            10968.0  349.000000             360.0   \n",
       "10             3200              700.0   70.000000             360.0   \n",
       "11             2500             1840.0  109.000000             360.0   \n",
       "\n",
       "    Credit_History  Property_Area  Loan_Status  \n",
       "0              1.0              2            1  \n",
       "1              1.0              0            0  \n",
       "2              1.0              2            1  \n",
       "3              1.0              2            1  \n",
       "4              1.0              2            1  \n",
       "5              1.0              2            1  \n",
       "6              1.0              2            1  \n",
       "7              0.0              1            0  \n",
       "8              1.0              2            1  \n",
       "9              1.0              1            0  \n",
       "10             1.0              2            1  \n",
       "11             1.0              2            1  "
      ]
     },
     "execution_count": 21,
     "metadata": {},
     "output_type": "execute_result"
    }
   ],
   "source": [
    "tr_m_x"
   ]
  },
  {
   "cell_type": "code",
   "execution_count": 22,
   "id": "22f074cd",
   "metadata": {},
   "outputs": [
    {
     "data": {
      "text/plain": [
       "0      1\n",
       "1      0\n",
       "2      1\n",
       "3      1\n",
       "4      1\n",
       "      ..\n",
       "609    1\n",
       "610    1\n",
       "611    1\n",
       "612    1\n",
       "613    0\n",
       "Name: Loan_Status, Length: 614, dtype: int32"
      ]
     },
     "execution_count": 22,
     "metadata": {},
     "output_type": "execute_result"
    }
   ],
   "source": [
    "tr_m_y"
   ]
  },
  {
   "cell_type": "code",
   "execution_count": 23,
   "id": "2ceb1e16",
   "metadata": {},
   "outputs": [],
   "source": [
    "scale=StandardScaler()"
   ]
  },
  {
   "cell_type": "code",
   "execution_count": 24,
   "id": "205c96e4",
   "metadata": {},
   "outputs": [],
   "source": [
    "tr_m_x=scale.fit_transform(tr_m_x)"
   ]
  },
  {
   "cell_type": "code",
   "execution_count": 25,
   "id": "9c4b1b6d",
   "metadata": {},
   "outputs": [],
   "source": [
    "def sizing(dataframe,oversample=False):\n",
    "    x=dataframe[dataframe.columns[:-1]].values\n",
    "    if oversample:\n",
    "        r=RandomOverSampler()\n",
    "        tr_x,tr_y=r.fit_resample(x,tr_m_y)\n",
    "    return tr_x,tr_y\n",
    "X_tr,Y_tr=sizing(df_train,oversample=True)"
   ]
  },
  {
   "cell_type": "code",
   "execution_count": 26,
   "id": "ae429ab3",
   "metadata": {},
   "outputs": [
    {
     "data": {
      "text/plain": [
       "array([[  0.        ,   1.        ,   0.        , ..., 360.        ,\n",
       "          1.        ,   2.        ],\n",
       "       [  1.        ,   1.        ,   1.        , ..., 360.        ,\n",
       "          1.        ,   0.        ],\n",
       "       [  2.        ,   1.        ,   1.        , ..., 360.        ,\n",
       "          1.        ,   2.        ],\n",
       "       ...,\n",
       "       [  9.        ,   1.        ,   1.        , ..., 360.        ,\n",
       "          1.        ,   1.        ],\n",
       "       [507.        ,   2.        ,   0.        , ..., 360.        ,\n",
       "          1.        ,   2.        ],\n",
       "       [600.        ,   0.        ,   0.        , ..., 180.        ,\n",
       "          0.84219858,   2.        ]])"
      ]
     },
     "execution_count": 26,
     "metadata": {},
     "output_type": "execute_result"
    }
   ],
   "source": [
    "X_tr"
   ]
  },
  {
   "cell_type": "code",
   "execution_count": 27,
   "id": "95956c70",
   "metadata": {
    "scrolled": true
   },
   "outputs": [
    {
     "data": {
      "text/plain": [
       "0      1\n",
       "1      0\n",
       "2      1\n",
       "3      1\n",
       "4      1\n",
       "      ..\n",
       "839    0\n",
       "840    0\n",
       "841    0\n",
       "842    0\n",
       "843    0\n",
       "Name: Loan_Status, Length: 844, dtype: int32"
      ]
     },
     "execution_count": 27,
     "metadata": {},
     "output_type": "execute_result"
    }
   ],
   "source": [
    "Y_tr"
   ]
  },
  {
   "cell_type": "code",
   "execution_count": 28,
   "id": "ecab9181",
   "metadata": {},
   "outputs": [],
   "source": [
    "mod=GaussianNB()"
   ]
  },
  {
   "cell_type": "code",
   "execution_count": 29,
   "id": "7a4d188f",
   "metadata": {},
   "outputs": [],
   "source": [
    "mod=mod.fit(X_tr,Y_tr)"
   ]
  },
  {
   "cell_type": "code",
   "execution_count": 30,
   "id": "0d02fd0d",
   "metadata": {},
   "outputs": [],
   "source": [
    "Test=pd.read_csv(\"test_Y3wMUE5_7gLdaTN.csv\",delimiter=\",\")"
   ]
  },
  {
   "cell_type": "code",
   "execution_count": 31,
   "id": "b998606d",
   "metadata": {},
   "outputs": [],
   "source": [
    "encoder = LabelEncoder()\n",
    "Test[\"Loan_ID\"] = encoder.fit_transform(Test[\"Loan_ID\"])\n",
    "Test[\"Gender\"] = encoder.fit_transform(Test[\"Gender\"])\n",
    "Test[\"Married\"] = encoder.fit_transform(Test[\"Married\"])\n",
    "Test[\"Dependents\"] = encoder.fit_transform(Test[\"Dependents\"])\n",
    "Test[\"Education\"] = encoder.fit_transform(Test[\"Education\"])\n",
    "Test[\"Self_Employed\"] = encoder.fit_transform(Test[\"Self_Employed\"])\n",
    "Test[\"Property_Area\"] = encoder.fit_transform(Test[\"Property_Area\"])"
   ]
  },
  {
   "cell_type": "code",
   "execution_count": 32,
   "id": "a8077b69",
   "metadata": {},
   "outputs": [
    {
     "data": {
      "text/plain": [
       "Loan_ID               0\n",
       "Gender                0\n",
       "Married               0\n",
       "Dependents            0\n",
       "Education             0\n",
       "Self_Employed         0\n",
       "ApplicantIncome       0\n",
       "CoapplicantIncome     0\n",
       "LoanAmount            5\n",
       "Loan_Amount_Term      6\n",
       "Credit_History       29\n",
       "Property_Area         0\n",
       "dtype: int64"
      ]
     },
     "execution_count": 32,
     "metadata": {},
     "output_type": "execute_result"
    }
   ],
   "source": [
    "Test.isnull().sum()"
   ]
  },
  {
   "cell_type": "code",
   "execution_count": 33,
   "id": "f3b2cafa",
   "metadata": {},
   "outputs": [],
   "source": [
    "Test['LoanAmount'].fillna(Test['LoanAmount'].mean(), inplace=True)\n",
    "Test['Loan_Amount_Term'].fillna(Test['Loan_Amount_Term'].mean(), inplace=True)\n",
    "Test['Credit_History'].fillna(Test['Credit_History'].mean(), inplace=True)"
   ]
  },
  {
   "cell_type": "code",
   "execution_count": 34,
   "id": "e533b5e8",
   "metadata": {},
   "outputs": [],
   "source": [
    "x=Test[Test.columns[:]].values"
   ]
  },
  {
   "cell_type": "code",
   "execution_count": 35,
   "id": "105fc6f8",
   "metadata": {},
   "outputs": [],
   "source": [
    "y_predict=mod.predict(x)"
   ]
  },
  {
   "cell_type": "code",
   "execution_count": 36,
   "id": "d5a7240d",
   "metadata": {},
   "outputs": [
    {
     "data": {
      "text/plain": [
       "(367, 12)"
      ]
     },
     "execution_count": 36,
     "metadata": {},
     "output_type": "execute_result"
    }
   ],
   "source": [
    "x.shape"
   ]
  },
  {
   "cell_type": "code",
   "execution_count": 42,
   "id": "b5e64237",
   "metadata": {},
   "outputs": [
    {
     "data": {
      "text/plain": [
       "array([1, 1, 1, 1, 1, 1, 1, 0, 1, 1, 1, 1, 1, 0, 1, 1, 1, 1, 0, 1, 1, 1,\n",
       "       1, 1, 1, 0, 1, 1, 1, 1, 1, 1, 1, 1, 1, 0, 1, 1, 1, 1, 1, 1, 1, 1,\n",
       "       1, 1, 1, 1, 1, 1, 1, 1, 1, 1, 1, 0, 1, 1, 0, 1, 1, 1, 1, 0, 1, 1,\n",
       "       0, 0, 1, 0, 1, 1, 0, 1, 1, 1, 1, 1, 1, 1, 0, 1, 0, 1, 0, 0, 1, 1,\n",
       "       1, 1, 1, 1, 1, 1, 0, 1, 1, 1, 1, 1, 1, 0, 1, 1, 1, 1, 0, 1, 1, 1,\n",
       "       1, 1, 1, 1, 1, 1, 1, 0, 0, 0, 1, 1, 1, 0, 0, 1, 0, 1, 1, 1, 1, 1,\n",
       "       1, 1, 0, 1, 1, 1, 1, 1, 0, 1, 0, 1, 0, 1, 1, 0, 1, 1, 1, 1, 1, 0,\n",
       "       1, 1, 1, 1, 1, 1, 1, 0, 1, 1, 1, 0, 0, 1, 0, 1, 1, 1, 1, 0, 0, 1,\n",
       "       1, 1, 1, 1, 1, 1, 1, 1, 1, 1, 1, 1, 1, 1, 0, 1, 0, 0, 1, 1, 0, 1,\n",
       "       0, 1, 1, 1, 1, 1, 1, 1, 1, 1, 1, 1, 1, 0, 1, 1, 1, 1, 0, 1, 1, 1,\n",
       "       1, 1, 1, 1, 0, 1, 1, 1, 1, 0, 0, 1, 1, 1, 1, 0, 0, 0, 1, 1, 1, 0,\n",
       "       1, 0, 1, 0, 1, 1, 1, 1, 0, 1, 1, 1, 1, 0, 1, 1, 1, 0, 1, 1, 1, 1,\n",
       "       1, 1, 0, 1, 0, 1, 1, 1, 1, 0, 0, 1, 1, 1, 0, 1, 1, 1, 1, 1, 0, 1,\n",
       "       1, 1, 1, 1, 1, 1, 1, 0, 1, 1, 1, 1, 1, 1, 1, 0, 1, 1, 1, 1, 1, 1,\n",
       "       1, 1, 1, 0, 0, 1, 1, 1, 1, 0, 1, 1, 1, 1, 1, 1, 1, 0, 1, 1, 1, 1,\n",
       "       1, 1, 1, 1, 1, 1, 1, 1, 1, 0, 1, 1, 1, 1, 1, 1, 0, 1, 1, 1, 1, 0,\n",
       "       1, 1, 0, 1, 1, 1, 1, 1, 1, 1, 1, 1, 1, 1, 1])"
      ]
     },
     "execution_count": 42,
     "metadata": {},
     "output_type": "execute_result"
    }
   ],
   "source": [
    "y_predict"
   ]
  },
  {
   "cell_type": "code",
   "execution_count": null,
   "id": "54203328",
   "metadata": {},
   "outputs": [],
   "source": []
  }
 ],
 "metadata": {
  "kernelspec": {
   "display_name": "Python 3 (ipykernel)",
   "language": "python",
   "name": "python3"
  },
  "language_info": {
   "codemirror_mode": {
    "name": "ipython",
    "version": 3
   },
   "file_extension": ".py",
   "mimetype": "text/x-python",
   "name": "python",
   "nbconvert_exporter": "python",
   "pygments_lexer": "ipython3",
   "version": "3.10.8"
  }
 },
 "nbformat": 4,
 "nbformat_minor": 5
}
